{
 "cells": [
  {
   "cell_type": "markdown",
   "metadata": {},
   "source": [
    "# **_性能测试_**\n"
   ]
  },
  {
   "cell_type": "code",
   "execution_count": 1,
   "metadata": {},
   "outputs": [
    {
     "name": "stdout",
     "output_type": "stream",
     "text": [
      "20.4 s ± 37.5 ms per loop (mean ± std. dev. of 7 runs, 1 loop each)\n",
      "20.8 s ± 253 ms per loop (mean ± std. dev. of 7 runs, 1 loop each)\n"
     ]
    }
   ],
   "source": [
    "try:\n",
    "    from cy_video2txt import get_color_codes as cy_get_color_codes\n",
    "except ModuleNotFoundError as e:\n",
    "    print('Only get_color_codes function defined by cpdef rather than cdef can be import')\n",
    "from processing import get_color_codes\n",
    "\n",
    "import numpy as np\n",
    "import cv2 as cv\n",
    "\n",
    "image = cv.imdecode(np.fromfile('./Data/茜特拉莉海报.png', dtype=np.uint8), cv.IMREAD_ANYCOLOR)\n",
    "flatten_image = image.reshape(-1, 3)\n",
    "\n",
    "# Cython\n",
    "%timeit cy_get_color_codes(flatten_image)\n",
    "\n",
    "# Python\n",
    "%timeit get_color_codes(flatten_image)\n"
   ]
  },
  {
   "cell_type": "code",
   "execution_count": null,
   "metadata": {},
   "outputs": [],
   "source": [
    "from processing import get_color_codes\n",
    "import numpy as np\n",
    "import cv2 as cv\n",
    "import string\n",
    "import random\n",
    "\n",
    "charset = string.digits + string.ascii_letters + string.punctuation\n",
    "\n",
    "image = cv.imdecode(np.fromfile('./Data/茜特菈莉.png', dtype=np.uint8), cv.IMREAD_REDUCED_COLOR_8)\n",
    "rgb = cv.cvtColor(image, cv.COLOR_BGR2RGB)\n",
    "h, w = image.shape[:2]\n",
    "\n",
    "with open('./Data/茜特菈莉8色.txt', 'w') as f:\n",
    "    rgb_color_codes = get_color_codes(rgb.reshape(-1, 3), enhance_color=False)\n",
    "    symbols = [c + ''.join(random.choices(charset, k=2)) if (i + 1) % w != 0 else '\\n' + c + ''.join(random.choices(charset, k=2)) for i, c in enumerate(rgb_color_codes)]\n",
    "    f.write(''.join(symbols))\n",
    "\n",
    "with open('./Data/茜特菈莉24色.txt', 'w') as f:\n",
    "    rgb_color_codes = get_color_codes(rgb.reshape(-1, 3))\n",
    "    symbols = [c + ''.join(random.choices(charset, k=2)) if (i + 1) % w != 0 else '\\n' + c + ''.join(random.choices(charset, k=2)) for i, c in enumerate(rgb_color_codes)]\n",
    "    f.write(''.join(symbols))\n"
   ]
  }
 ],
 "metadata": {
  "kernelspec": {
   "display_name": "Python 3",
   "language": "python",
   "name": "python3"
  },
  "language_info": {
   "codemirror_mode": {
    "name": "ipython",
    "version": 3
   },
   "file_extension": ".py",
   "mimetype": "text/x-python",
   "name": "python",
   "nbconvert_exporter": "python",
   "pygments_lexer": "ipython3",
   "version": "3.11.3"
  }
 },
 "nbformat": 4,
 "nbformat_minor": 2
}
