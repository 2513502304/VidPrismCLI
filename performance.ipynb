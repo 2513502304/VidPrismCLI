{
 "cells": [
  {
   "cell_type": "markdown",
   "metadata": {},
   "source": [
    "# **_性能测试_**\n"
   ]
  },
  {
   "cell_type": "code",
   "execution_count": null,
   "metadata": {},
   "outputs": [
    {
     "name": "stdout",
     "output_type": "stream",
     "text": [
      "20.4 s ± 37.5 ms per loop (mean ± std. dev. of 7 runs, 1 loop each)\n",
      "20.8 s ± 253 ms per loop (mean ± std. dev. of 7 runs, 1 loop each)\n"
     ]
    }
   ],
   "source": [
    "try:\n",
    "    from cy_video2txt import get_color_codes as cy_get_color_codes\n",
    "except ModuleNotFoundError as e:\n",
    "    print('Only get_color_codes function defined by cpdef rather than cdef can be import')\n",
    "from processing import pixel2cluster_color, pixel2cluster_color_code, pixel2true_color_code\n",
    "\n",
    "import numpy as np\n",
    "import cv2 as cv\n",
    "\n",
    "image = cv.imdecode(np.fromfile('./Data/茜特拉莉海报.png', dtype=np.uint8), cv.IMREAD_ANYCOLOR)\n",
    "flatten_image = image.reshape(-1, 3)\n",
    "\n",
    "# Cython\n",
    "%timeit cy_get_color_codes(flatten_image)\n",
    "\n",
    "# Python\n",
    "%timeit pixel2cluster_color_code(flatten_image)\n"
   ]
  }
 ],
 "metadata": {
  "kernelspec": {
   "display_name": "Python 3",
   "language": "python",
   "name": "python3"
  },
  "language_info": {
   "codemirror_mode": {
    "name": "ipython",
    "version": 3
   },
   "file_extension": ".py",
   "mimetype": "text/x-python",
   "name": "python",
   "nbconvert_exporter": "python",
   "pygments_lexer": "ipython3",
   "version": "3.11.3"
  }
 },
 "nbformat": 4,
 "nbformat_minor": 2
}
